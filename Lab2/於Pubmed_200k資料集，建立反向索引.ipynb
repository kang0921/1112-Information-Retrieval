{
  "nbformat": 4,
  "nbformat_minor": 0,
  "metadata": {
    "colab": {
      "provenance": []
    },
    "kernelspec": {
      "name": "python3",
      "display_name": "Python 3"
    },
    "language_info": {
      "name": "python"
    }
  },
  "cells": [
    {
      "cell_type": "markdown",
      "source": [
        "# 作業3: 於Pubmed 200k資料集，建立反向索引"
      ],
      "metadata": {
        "id": "i7MA6bL1Aq4B"
      }
    },
    {
      "cell_type": "markdown",
      "source": [
        "* 目標：學習使用現有工具(Pyserini)建立反向索引 \n",
        "* 資料集：Pubmed200k\n",
        "* 使用Library：Pyserini https://github.com/castorini/pyserini \n",
        "* 說明：\n",
        "  * 使用Pubmed200k (The PubMed 200k RCT dataset is described in Franck Dernoncourt, Ji Young Lee. PubMed 200k RCT: a Dataset for Sequential Sentence Classification in Medical Abstracts. International Joint Conference on Natural Language Processing (IJCNLP). 2017.) 資料集可從 https://www.dropbox.com/s/miyb2awm2esrcpk/pubmed%20220%20train.txt?dl=0 下載。\n",
        "\n",
        "  * 使用Pyserini (Follow https://github.com/castorini/pyserini#how-do-i-index-and-search-my-own-documents 中的說明) 建立文章等級的反向索引。\n",
        "* 需求：比較暴力搜尋法(i.e., linear scan)與使用反向索引(retreive by inverted index)所需的時間差異。"
      ],
      "metadata": {
        "id": "rS0iHc8AAwrM"
      }
    },
    {
      "cell_type": "markdown",
      "source": [
        "## Load dataset"
      ],
      "metadata": {
        "id": "BkoaDp4UEn3d"
      }
    },
    {
      "cell_type": "code",
      "source": [
        "!mkdir /content/dataset # 建立資料夾\n",
        "!mkdir /content/dataset/input # 建立資料夾\n",
        "!mkdir /content/dataset/output # 建立資料夾\n",
        "!wget https://www.dropbox.com/s/miyb2awm2esrcpk/Pubmed%20220%20Train%202022-01-21.txt?dl=0 -O /content/dataset/Pubmed.txt # 將文件寫入指定的位址"
      ],
      "metadata": {
        "colab": {
          "base_uri": "https://localhost:8080/"
        },
        "id": "UVwN8DJICAQf",
        "outputId": "3f04e133-3ba2-409f-a42b-ef9a59cdd38e"
      },
      "execution_count": 4,
      "outputs": [
        {
          "output_type": "stream",
          "name": "stdout",
          "text": [
            "mkdir: cannot create directory ‘/content/dataset’: File exists\n",
            "--2023-03-09 11:20:49--  https://www.dropbox.com/s/miyb2awm2esrcpk/Pubmed%20220%20Train%202022-01-21.txt?dl=0\n",
            "Resolving www.dropbox.com (www.dropbox.com)... 162.125.6.18, 2620:100:601a:18::a27d:712\n",
            "Connecting to www.dropbox.com (www.dropbox.com)|162.125.6.18|:443... connected.\n",
            "HTTP request sent, awaiting response... 302 Found\n",
            "Location: /s/raw/miyb2awm2esrcpk/Pubmed%20220%20Train%202022-01-21.txt [following]\n",
            "--2023-03-09 11:20:49--  https://www.dropbox.com/s/raw/miyb2awm2esrcpk/Pubmed%20220%20Train%202022-01-21.txt\n",
            "Reusing existing connection to www.dropbox.com:443.\n",
            "HTTP request sent, awaiting response... 302 Found\n",
            "Location: https://uc4ce9eebf11c0d8affd1ab200cd.dl.dropboxusercontent.com/cd/0/inline/B35TZ65P3eoHjg2XDDJnV9yJOXp3p2dYbPlrFfvEAF-NAnqxAiLQYszomulMVArjb3fAHTkoM1wHGydhPjsiuvqV8pn-QQra2-G9NLbz8Z576RVtmbdlnyGB-OdCIB1XYNFIA7zpkcb9bfa5-A38b2J-5n_UgKycqBn945o41QVMbw/file# [following]\n",
            "--2023-03-09 11:20:50--  https://uc4ce9eebf11c0d8affd1ab200cd.dl.dropboxusercontent.com/cd/0/inline/B35TZ65P3eoHjg2XDDJnV9yJOXp3p2dYbPlrFfvEAF-NAnqxAiLQYszomulMVArjb3fAHTkoM1wHGydhPjsiuvqV8pn-QQra2-G9NLbz8Z576RVtmbdlnyGB-OdCIB1XYNFIA7zpkcb9bfa5-A38b2J-5n_UgKycqBn945o41QVMbw/file\n",
            "Resolving uc4ce9eebf11c0d8affd1ab200cd.dl.dropboxusercontent.com (uc4ce9eebf11c0d8affd1ab200cd.dl.dropboxusercontent.com)... 162.125.6.15, 2620:100:6019:15::a27d:40f\n",
            "Connecting to uc4ce9eebf11c0d8affd1ab200cd.dl.dropboxusercontent.com (uc4ce9eebf11c0d8affd1ab200cd.dl.dropboxusercontent.com)|162.125.6.15|:443... connected.\n",
            "HTTP request sent, awaiting response... 200 OK\n",
            "Length: 357620996 (341M) [text/plain]\n",
            "Saving to: ‘/content/dataset/Pubmed.txt’\n",
            "\n",
            "/content/dataset/Pu 100%[===================>] 341.05M   131MB/s    in 2.6s    \n",
            "\n",
            "2023-03-09 11:20:53 (131 MB/s) - ‘/content/dataset/Pubmed.txt’ saved [357620996/357620996]\n",
            "\n"
          ]
        }
      ]
    },
    {
      "cell_type": "code",
      "execution_count": 5,
      "metadata": {
        "id": "80-6HlW3Jg_C"
      },
      "outputs": [],
      "source": [
        "import pandas as pd\n",
        "import json\n",
        "\n",
        "# 取得dataset\n",
        "f = open(\"/content/dataset/Pubmed.txt\", 'r')\n",
        "\n",
        "temp = []\n",
        "dict_ = {}\n",
        "json_list = []\n",
        "contents = \"\"\n",
        "\n",
        "for line in f.readlines():\n",
        "\n",
        "  # For id\n",
        "  if \"###\" in line: \n",
        "    dict_['id'] = line.strip()[3:]\n",
        "\n",
        "  # For end\n",
        "  elif line in ['\\n', '\\r\\n']:  \n",
        "    dict_['contents'] = contents\n",
        "    contents = \"\"\n",
        "    json_list.append(dict_)\n",
        "    dict_ = {}   \n",
        "\n",
        "  # For contents\n",
        "  else: \n",
        "    contents += line.split('\\t')[1].strip()\n",
        "\n",
        "# 將Python 的物件資料轉換成為JSON 物件\n",
        "with open('/content/dataset/input/json_data.json', 'w') as f:\n",
        "    json.dump(json_list, f, indent = 4) "
      ]
    },
    {
      "cell_type": "markdown",
      "source": [
        "## 下載pyserini套件"
      ],
      "metadata": {
        "id": "hXMyySDaFUd3"
      }
    },
    {
      "cell_type": "code",
      "source": [
        "pip install pyserini"
      ],
      "metadata": {
        "id": "Y9Yq-ouoA3HS",
        "colab": {
          "base_uri": "https://localhost:8080/",
          "height": 1000
        },
        "outputId": "df79d74f-698c-4120-dce1-feb53b5139b5"
      },
      "execution_count": 6,
      "outputs": [
        {
          "output_type": "stream",
          "name": "stdout",
          "text": [
            "Looking in indexes: https://pypi.org/simple, https://us-python.pkg.dev/colab-wheels/public/simple/\n",
            "Collecting pyserini\n",
            "  Downloading pyserini-0.20.0-py3-none-any.whl (137.1 MB)\n",
            "\u001b[2K     \u001b[90m━━━━━━━━━━━━━━━━━━━━━━━━━━━━━━━━━━━━━━━\u001b[0m \u001b[32m137.1/137.1 MB\u001b[0m \u001b[31m9.1 MB/s\u001b[0m eta \u001b[36m0:00:00\u001b[0m\n",
            "\u001b[?25hRequirement already satisfied: scipy>=1.4.1 in /usr/local/lib/python3.9/dist-packages (from pyserini) (1.10.1)\n",
            "Collecting transformers>=4.6.0\n",
            "  Downloading transformers-4.26.1-py3-none-any.whl (6.3 MB)\n",
            "\u001b[2K     \u001b[90m━━━━━━━━━━━━━━━━━━━━━━━━━━━━━━━━━━━━━━━━\u001b[0m \u001b[32m6.3/6.3 MB\u001b[0m \u001b[31m45.8 MB/s\u001b[0m eta \u001b[36m0:00:00\u001b[0m\n",
            "\u001b[?25hRequirement already satisfied: numpy>=1.18.1 in /usr/local/lib/python3.9/dist-packages (from pyserini) (1.22.4)\n",
            "Requirement already satisfied: spacy>=3.2.1 in /usr/local/lib/python3.9/dist-packages (from pyserini) (3.4.4)\n",
            "Collecting pyjnius>=1.4.0\n",
            "  Downloading pyjnius-1.4.2-cp39-cp39-manylinux_2_17_x86_64.manylinux2014_x86_64.whl (1.5 MB)\n",
            "\u001b[2K     \u001b[90m━━━━━━━━━━━━━━━━━━━━━━━━━━━━━━━━━━━━━━━━\u001b[0m \u001b[32m1.5/1.5 MB\u001b[0m \u001b[31m45.8 MB/s\u001b[0m eta \u001b[36m0:00:00\u001b[0m\n",
            "\u001b[?25hCollecting lightgbm>=3.3.2\n",
            "  Downloading lightgbm-3.3.5-py3-none-manylinux1_x86_64.whl (2.0 MB)\n",
            "\u001b[2K     \u001b[90m━━━━━━━━━━━━━━━━━━━━━━━━━━━━━━━━━━━━━━━━\u001b[0m \u001b[32m2.0/2.0 MB\u001b[0m \u001b[31m49.7 MB/s\u001b[0m eta \u001b[36m0:00:00\u001b[0m\n",
            "\u001b[?25hCollecting onnxruntime>=1.8.1\n",
            "  Downloading onnxruntime-1.14.1-cp39-cp39-manylinux_2_27_x86_64.whl (5.0 MB)\n",
            "\u001b[2K     \u001b[90m━━━━━━━━━━━━━━━━━━━━━━━━━━━━━━━━━━━━━━━━\u001b[0m \u001b[32m5.0/5.0 MB\u001b[0m \u001b[31m49.2 MB/s\u001b[0m eta \u001b[36m0:00:00\u001b[0m\n",
            "\u001b[?25hCollecting pandas>=1.4.0\n",
            "  Downloading pandas-1.5.3-cp39-cp39-manylinux_2_17_x86_64.manylinux2014_x86_64.whl (12.2 MB)\n",
            "\u001b[2K     \u001b[90m━━━━━━━━━━━━━━━━━━━━━━━━━━━━━━━━━━━━━━━━\u001b[0m \u001b[32m12.2/12.2 MB\u001b[0m \u001b[31m45.0 MB/s\u001b[0m eta \u001b[36m0:00:00\u001b[0m\n",
            "\u001b[?25hRequirement already satisfied: scikit-learn>=0.22.1 in /usr/local/lib/python3.9/dist-packages (from pyserini) (1.2.1)\n",
            "Requirement already satisfied: tqdm in /usr/local/lib/python3.9/dist-packages (from pyserini) (4.65.0)\n",
            "Collecting sentencepiece>=0.1.95\n",
            "  Downloading sentencepiece-0.1.97-cp39-cp39-manylinux_2_17_x86_64.manylinux2014_x86_64.whl (1.3 MB)\n",
            "\u001b[2K     \u001b[90m━━━━━━━━━━━━━━━━━━━━━━━━━━━━━━━━━━━━━━━━\u001b[0m \u001b[32m1.3/1.3 MB\u001b[0m \u001b[31m46.5 MB/s\u001b[0m eta \u001b[36m0:00:00\u001b[0m\n",
            "\u001b[?25hRequirement already satisfied: Cython>=0.29.21 in /usr/local/lib/python3.9/dist-packages (from pyserini) (0.29.33)\n",
            "Collecting nmslib>=2.1.1\n",
            "  Downloading nmslib-2.1.1-cp39-cp39-manylinux2010_x86_64.whl (13.3 MB)\n",
            "\u001b[2K     \u001b[90m━━━━━━━━━━━━━━━━━━━━━━━━━━━━━━━━━━━━━━━━\u001b[0m \u001b[32m13.3/13.3 MB\u001b[0m \u001b[31m23.2 MB/s\u001b[0m eta \u001b[36m0:00:00\u001b[0m\n",
            "\u001b[?25hRequirement already satisfied: wheel in /usr/local/lib/python3.9/dist-packages (from lightgbm>=3.3.2->pyserini) (0.38.4)\n",
            "Collecting pybind11<2.6.2\n",
            "  Downloading pybind11-2.6.1-py2.py3-none-any.whl (188 kB)\n",
            "\u001b[2K     \u001b[90m━━━━━━━━━━━━━━━━━━━━━━━━━━━━━━━━━━━━━━\u001b[0m \u001b[32m188.5/188.5 KB\u001b[0m \u001b[31m14.7 MB/s\u001b[0m eta \u001b[36m0:00:00\u001b[0m\n",
            "\u001b[?25hRequirement already satisfied: psutil in /usr/local/lib/python3.9/dist-packages (from nmslib>=2.1.1->pyserini) (5.4.8)\n",
            "Requirement already satisfied: protobuf in /usr/local/lib/python3.9/dist-packages (from onnxruntime>=1.8.1->pyserini) (3.19.6)\n",
            "Collecting coloredlogs\n",
            "  Downloading coloredlogs-15.0.1-py2.py3-none-any.whl (46 kB)\n",
            "\u001b[2K     \u001b[90m━━━━━━━━━━━━━━━━━━━━━━━━━━━━━━━━━━━━━━━━\u001b[0m \u001b[32m46.0/46.0 KB\u001b[0m \u001b[31m5.2 MB/s\u001b[0m eta \u001b[36m0:00:00\u001b[0m\n",
            "\u001b[?25hRequirement already satisfied: sympy in /usr/local/lib/python3.9/dist-packages (from onnxruntime>=1.8.1->pyserini) (1.7.1)\n",
            "Requirement already satisfied: flatbuffers in /usr/local/lib/python3.9/dist-packages (from onnxruntime>=1.8.1->pyserini) (23.3.3)\n",
            "Requirement already satisfied: packaging in /usr/local/lib/python3.9/dist-packages (from onnxruntime>=1.8.1->pyserini) (23.0)\n",
            "Requirement already satisfied: python-dateutil>=2.8.1 in /usr/local/lib/python3.9/dist-packages (from pandas>=1.4.0->pyserini) (2.8.2)\n",
            "Requirement already satisfied: pytz>=2020.1 in /usr/local/lib/python3.9/dist-packages (from pandas>=1.4.0->pyserini) (2022.7.1)\n",
            "Requirement already satisfied: six>=1.7.0 in /usr/local/lib/python3.9/dist-packages (from pyjnius>=1.4.0->pyserini) (1.15.0)\n",
            "Requirement already satisfied: joblib>=1.1.1 in /usr/local/lib/python3.9/dist-packages (from scikit-learn>=0.22.1->pyserini) (1.2.0)\n",
            "Requirement already satisfied: threadpoolctl>=2.0.0 in /usr/local/lib/python3.9/dist-packages (from scikit-learn>=0.22.1->pyserini) (3.1.0)\n",
            "Requirement already satisfied: requests<3.0.0,>=2.13.0 in /usr/local/lib/python3.9/dist-packages (from spacy>=3.2.1->pyserini) (2.25.1)\n",
            "Requirement already satisfied: murmurhash<1.1.0,>=0.28.0 in /usr/local/lib/python3.9/dist-packages (from spacy>=3.2.1->pyserini) (1.0.9)\n",
            "Requirement already satisfied: wasabi<1.1.0,>=0.9.1 in /usr/local/lib/python3.9/dist-packages (from spacy>=3.2.1->pyserini) (0.10.1)\n",
            "Requirement already satisfied: cymem<2.1.0,>=2.0.2 in /usr/local/lib/python3.9/dist-packages (from spacy>=3.2.1->pyserini) (2.0.7)\n",
            "Requirement already satisfied: setuptools in /usr/local/lib/python3.9/dist-packages (from spacy>=3.2.1->pyserini) (57.4.0)\n",
            "Requirement already satisfied: thinc<8.2.0,>=8.1.0 in /usr/local/lib/python3.9/dist-packages (from spacy>=3.2.1->pyserini) (8.1.8)\n",
            "Requirement already satisfied: typer<0.8.0,>=0.3.0 in /usr/local/lib/python3.9/dist-packages (from spacy>=3.2.1->pyserini) (0.7.0)\n",
            "Requirement already satisfied: srsly<3.0.0,>=2.4.3 in /usr/local/lib/python3.9/dist-packages (from spacy>=3.2.1->pyserini) (2.4.6)\n",
            "Requirement already satisfied: langcodes<4.0.0,>=3.2.0 in /usr/local/lib/python3.9/dist-packages (from spacy>=3.2.1->pyserini) (3.3.0)\n",
            "Requirement already satisfied: spacy-loggers<2.0.0,>=1.0.0 in /usr/local/lib/python3.9/dist-packages (from spacy>=3.2.1->pyserini) (1.0.4)\n",
            "Requirement already satisfied: pydantic!=1.8,!=1.8.1,<1.11.0,>=1.7.4 in /usr/local/lib/python3.9/dist-packages (from spacy>=3.2.1->pyserini) (1.10.5)\n",
            "Requirement already satisfied: jinja2 in /usr/local/lib/python3.9/dist-packages (from spacy>=3.2.1->pyserini) (3.1.2)\n",
            "Requirement already satisfied: smart-open<7.0.0,>=5.2.1 in /usr/local/lib/python3.9/dist-packages (from spacy>=3.2.1->pyserini) (6.3.0)\n",
            "Requirement already satisfied: spacy-legacy<3.1.0,>=3.0.10 in /usr/local/lib/python3.9/dist-packages (from spacy>=3.2.1->pyserini) (3.0.12)\n",
            "Requirement already satisfied: preshed<3.1.0,>=3.0.2 in /usr/local/lib/python3.9/dist-packages (from spacy>=3.2.1->pyserini) (3.0.8)\n",
            "Requirement already satisfied: pathy>=0.3.5 in /usr/local/lib/python3.9/dist-packages (from spacy>=3.2.1->pyserini) (0.10.1)\n",
            "Requirement already satisfied: catalogue<2.1.0,>=2.0.6 in /usr/local/lib/python3.9/dist-packages (from spacy>=3.2.1->pyserini) (2.0.8)\n",
            "Collecting tokenizers!=0.11.3,<0.14,>=0.11.1\n",
            "  Downloading tokenizers-0.13.2-cp39-cp39-manylinux_2_17_x86_64.manylinux2014_x86_64.whl (7.6 MB)\n",
            "\u001b[2K     \u001b[90m━━━━━━━━━━━━━━━━━━━━━━━━━━━━━━━━━━━━━━━━\u001b[0m \u001b[32m7.6/7.6 MB\u001b[0m \u001b[31m41.4 MB/s\u001b[0m eta \u001b[36m0:00:00\u001b[0m\n",
            "\u001b[?25hRequirement already satisfied: pyyaml>=5.1 in /usr/local/lib/python3.9/dist-packages (from transformers>=4.6.0->pyserini) (6.0)\n",
            "Collecting huggingface-hub<1.0,>=0.11.0\n",
            "  Downloading huggingface_hub-0.13.0-py3-none-any.whl (199 kB)\n",
            "\u001b[2K     \u001b[90m━━━━━━━━━━━━━━━━━━━━━━━━━━━━━━━━━━━━━━\u001b[0m \u001b[32m199.1/199.1 KB\u001b[0m \u001b[31m12.5 MB/s\u001b[0m eta \u001b[36m0:00:00\u001b[0m\n",
            "\u001b[?25hRequirement already satisfied: regex!=2019.12.17 in /usr/local/lib/python3.9/dist-packages (from transformers>=4.6.0->pyserini) (2022.6.2)\n",
            "Requirement already satisfied: filelock in /usr/local/lib/python3.9/dist-packages (from transformers>=4.6.0->pyserini) (3.9.0)\n",
            "Requirement already satisfied: typing-extensions>=3.7.4.3 in /usr/local/lib/python3.9/dist-packages (from huggingface-hub<1.0,>=0.11.0->transformers>=4.6.0->pyserini) (4.5.0)\n",
            "Requirement already satisfied: chardet<5,>=3.0.2 in /usr/local/lib/python3.9/dist-packages (from requests<3.0.0,>=2.13.0->spacy>=3.2.1->pyserini) (4.0.0)\n",
            "Requirement already satisfied: idna<3,>=2.5 in /usr/local/lib/python3.9/dist-packages (from requests<3.0.0,>=2.13.0->spacy>=3.2.1->pyserini) (2.10)\n",
            "Requirement already satisfied: certifi>=2017.4.17 in /usr/local/lib/python3.9/dist-packages (from requests<3.0.0,>=2.13.0->spacy>=3.2.1->pyserini) (2022.12.7)\n",
            "Requirement already satisfied: urllib3<1.27,>=1.21.1 in /usr/local/lib/python3.9/dist-packages (from requests<3.0.0,>=2.13.0->spacy>=3.2.1->pyserini) (1.26.14)\n",
            "Requirement already satisfied: confection<1.0.0,>=0.0.1 in /usr/local/lib/python3.9/dist-packages (from thinc<8.2.0,>=8.1.0->spacy>=3.2.1->pyserini) (0.0.4)\n",
            "Requirement already satisfied: blis<0.8.0,>=0.7.8 in /usr/local/lib/python3.9/dist-packages (from thinc<8.2.0,>=8.1.0->spacy>=3.2.1->pyserini) (0.7.9)\n",
            "Requirement already satisfied: click<9.0.0,>=7.1.1 in /usr/local/lib/python3.9/dist-packages (from typer<0.8.0,>=0.3.0->spacy>=3.2.1->pyserini) (8.1.3)\n",
            "Collecting humanfriendly>=9.1\n",
            "  Downloading humanfriendly-10.0-py2.py3-none-any.whl (86 kB)\n",
            "\u001b[2K     \u001b[90m━━━━━━━━━━━━━━━━━━━━━━━━━━━━━━━━━━━━━━━━\u001b[0m \u001b[32m86.8/86.8 KB\u001b[0m \u001b[31m9.0 MB/s\u001b[0m eta \u001b[36m0:00:00\u001b[0m\n",
            "\u001b[?25hRequirement already satisfied: MarkupSafe>=2.0 in /usr/local/lib/python3.9/dist-packages (from jinja2->spacy>=3.2.1->pyserini) (2.1.2)\n",
            "Requirement already satisfied: mpmath>=0.19 in /usr/local/lib/python3.9/dist-packages (from sympy->onnxruntime>=1.8.1->pyserini) (1.2.1)\n",
            "Installing collected packages: tokenizers, sentencepiece, pyjnius, pybind11, humanfriendly, pandas, nmslib, huggingface-hub, coloredlogs, transformers, onnxruntime, lightgbm, pyserini\n",
            "  Attempting uninstall: pandas\n",
            "    Found existing installation: pandas 1.3.5\n",
            "    Uninstalling pandas-1.3.5:\n",
            "      Successfully uninstalled pandas-1.3.5\n",
            "  Attempting uninstall: lightgbm\n",
            "    Found existing installation: lightgbm 2.2.3\n",
            "    Uninstalling lightgbm-2.2.3:\n",
            "      Successfully uninstalled lightgbm-2.2.3\n",
            "Successfully installed coloredlogs-15.0.1 huggingface-hub-0.13.0 humanfriendly-10.0 lightgbm-3.3.5 nmslib-2.1.1 onnxruntime-1.14.1 pandas-1.5.3 pybind11-2.6.1 pyjnius-1.4.2 pyserini-0.20.0 sentencepiece-0.1.97 tokenizers-0.13.2 transformers-4.26.1\n"
          ]
        },
        {
          "output_type": "display_data",
          "data": {
            "application/vnd.colab-display-data+json": {
              "pip_warning": {
                "packages": [
                  "pandas"
                ]
              }
            }
          },
          "metadata": {}
        }
      ]
    },
    {
      "cell_type": "markdown",
      "source": [
        "### 使用pyserini的github提供的指令來進行反向索引\n",
        "- https://github.com/castorini/pyserini\n",
        "\n",
        "python -m pyserini.index.lucene \\\n",
        "  --collection JsonCollection \\\n",
        "  --input tests/resources/sample_collection_jsonl \\\n",
        "  --index indexes/sample_collection_jsonl \\\n",
        "  --generator DefaultLuceneDocumentGenerator \\\n",
        "  --threads 1 \\\n",
        "  --storePositions --storeDocvectors --storeRaw"
      ],
      "metadata": {
        "id": "XA71ltCmHszb"
      }
    },
    {
      "cell_type": "code",
      "source": [
        "!python -m pyserini.index.lucene \\\n",
        "  --collection JsonCollection\\\n",
        "  --input '/content/dataset/input' \\\n",
        "  --index '/content/dataset/output'\\\n",
        "  --generator DefaultLuceneDocumentGenerator\\\n",
        "  --threads 1\\\n",
        "  --storePositions --storeDocvectors --storeRaw"
      ],
      "metadata": {
        "id": "xAScdTPGJ279",
        "colab": {
          "base_uri": "https://localhost:8080/"
        },
        "outputId": "af711158-c124-4a03-9832-135bc776630b"
      },
      "execution_count": 7,
      "outputs": [
        {
          "output_type": "stream",
          "name": "stdout",
          "text": [
            "WARNING: sun.reflect.Reflection.getCallerClass is not supported. This will impact performance.\n",
            "2023-03-09 11:21:27,279 INFO  [main] index.IndexCollection (IndexCollection.java:391) - Setting log level to INFO\n",
            "2023-03-09 11:21:27,282 INFO  [main] index.IndexCollection (IndexCollection.java:394) - Starting indexer...\n",
            "2023-03-09 11:21:27,283 INFO  [main] index.IndexCollection (IndexCollection.java:395) - ============ Loading Parameters ============\n",
            "2023-03-09 11:21:27,283 INFO  [main] index.IndexCollection (IndexCollection.java:396) - DocumentCollection path: /content/dataset/input\n",
            "2023-03-09 11:21:27,283 INFO  [main] index.IndexCollection (IndexCollection.java:397) - CollectionClass: JsonCollection\n",
            "2023-03-09 11:21:27,284 INFO  [main] index.IndexCollection (IndexCollection.java:398) - Generator: DefaultLuceneDocumentGenerator\n",
            "2023-03-09 11:21:27,284 INFO  [main] index.IndexCollection (IndexCollection.java:399) - Threads: 1\n",
            "2023-03-09 11:21:27,284 INFO  [main] index.IndexCollection (IndexCollection.java:400) - Language: en\n",
            "2023-03-09 11:21:27,285 INFO  [main] index.IndexCollection (IndexCollection.java:401) - Stemmer: porter\n",
            "2023-03-09 11:21:27,285 INFO  [main] index.IndexCollection (IndexCollection.java:402) - Keep stopwords? false\n",
            "2023-03-09 11:21:27,285 INFO  [main] index.IndexCollection (IndexCollection.java:403) - Stopwords: null\n",
            "2023-03-09 11:21:27,286 INFO  [main] index.IndexCollection (IndexCollection.java:404) - Store positions? true\n",
            "2023-03-09 11:21:27,286 INFO  [main] index.IndexCollection (IndexCollection.java:405) - Store docvectors? true\n",
            "2023-03-09 11:21:27,286 INFO  [main] index.IndexCollection (IndexCollection.java:406) - Store document \"contents\" field? false\n",
            "2023-03-09 11:21:27,287 INFO  [main] index.IndexCollection (IndexCollection.java:407) - Store document \"raw\" field? true\n",
            "2023-03-09 11:21:27,287 INFO  [main] index.IndexCollection (IndexCollection.java:408) - Additional fields to index: []\n",
            "2023-03-09 11:21:27,287 INFO  [main] index.IndexCollection (IndexCollection.java:409) - Optimize (merge segments)? false\n",
            "2023-03-09 11:21:27,288 INFO  [main] index.IndexCollection (IndexCollection.java:410) - Whitelist: null\n",
            "2023-03-09 11:21:27,288 INFO  [main] index.IndexCollection (IndexCollection.java:411) - Pretokenized?: false\n",
            "2023-03-09 11:21:27,288 INFO  [main] index.IndexCollection (IndexCollection.java:412) - Index path: /content/dataset/output\n",
            "2023-03-09 11:21:27,292 INFO  [main] index.IndexCollection (IndexCollection.java:450) - ============ Indexing Collection ============\n",
            "2023-03-09 11:21:27,723 INFO  [main] index.IndexCollection (IndexCollection.java:565) - Thread pool with 1 threads initialized.\n",
            "2023-03-09 11:21:27,724 INFO  [main] index.IndexCollection (IndexCollection.java:567) - Initializing collection in /content/dataset/input\n",
            "2023-03-09 11:21:27,727 INFO  [main] index.IndexCollection (IndexCollection.java:576) - 1 file found\n",
            "2023-03-09 11:21:27,727 INFO  [main] index.IndexCollection (IndexCollection.java:577) - Starting to index...\n",
            "2023-03-09 11:22:22,078 DEBUG [pool-2-thread-1] index.IndexCollection$LocalIndexerThread (IndexCollection.java:356) - input/json_data.json: 190654 docs added.\n",
            "2023-03-09 11:22:27,371 INFO  [main] index.IndexCollection (IndexCollection.java:633) - Indexing Complete! 190,654 documents indexed\n",
            "2023-03-09 11:22:27,372 INFO  [main] index.IndexCollection (IndexCollection.java:634) - ============ Final Counter Values ============\n",
            "2023-03-09 11:22:27,372 INFO  [main] index.IndexCollection (IndexCollection.java:635) - indexed:          190,654\n",
            "2023-03-09 11:22:27,372 INFO  [main] index.IndexCollection (IndexCollection.java:636) - unindexable:            0\n",
            "2023-03-09 11:22:27,372 INFO  [main] index.IndexCollection (IndexCollection.java:637) - empty:                  0\n",
            "2023-03-09 11:22:27,373 INFO  [main] index.IndexCollection (IndexCollection.java:638) - skipped:                0\n",
            "2023-03-09 11:22:27,373 INFO  [main] index.IndexCollection (IndexCollection.java:639) - errors:                 0\n",
            "2023-03-09 11:22:27,379 INFO  [main] index.IndexCollection (IndexCollection.java:642) - Total 190,654 documents indexed in 00:01:00\n"
          ]
        }
      ]
    },
    {
      "cell_type": "markdown",
      "source": [
        "### 下載faiss\n",
        "faiss全稱為Facebook AI Similarity Search，該開源庫針對高維空間中的海量數據（稠密向量），提供了高效且可靠的相似性聚類和檢索方法，可支持十億級別向量的搜索，是目前最為成熟的近似近鄰搜索庫"
      ],
      "metadata": {
        "id": "RqGAACV9I6FU"
      }
    },
    {
      "cell_type": "code",
      "source": [
        "pip install faiss-gpu"
      ],
      "metadata": {
        "colab": {
          "base_uri": "https://localhost:8080/"
        },
        "id": "vOnZj2jAEk7I",
        "outputId": "c65a327d-5270-4d0a-d188-1dde217a9ab2"
      },
      "execution_count": 8,
      "outputs": [
        {
          "output_type": "stream",
          "name": "stdout",
          "text": [
            "Looking in indexes: https://pypi.org/simple, https://us-python.pkg.dev/colab-wheels/public/simple/\n",
            "Collecting faiss-gpu\n",
            "  Downloading faiss_gpu-1.7.2-cp39-cp39-manylinux_2_17_x86_64.manylinux2014_x86_64.whl (85.5 MB)\n",
            "\u001b[2K     \u001b[90m━━━━━━━━━━━━━━━━━━━━━━━━━━━━━━━━━━━━━━━━\u001b[0m \u001b[32m85.5/85.5 MB\u001b[0m \u001b[31m10.4 MB/s\u001b[0m eta \u001b[36m0:00:00\u001b[0m\n",
            "\u001b[?25hInstalling collected packages: faiss-gpu\n",
            "Successfully installed faiss-gpu-1.7.2\n"
          ]
        }
      ]
    },
    {
      "cell_type": "code",
      "source": [
        "from pyserini.search.lucene import LuceneSearcher\n",
        "import time\n",
        "\n",
        "f = open('/content/dataset/input/json_data.json')\n",
        "data = json.load(f)"
      ],
      "metadata": {
        "id": "QCGSqdWzXLD5"
      },
      "execution_count": 9,
      "outputs": []
    },
    {
      "cell_type": "code",
      "source": [
        "searcher = LuceneSearcher('/content/dataset/output')\n",
        "hits = searcher.search(\"cancer\")\n",
        "\n",
        "for i in range(10):\n",
        "    print(f'{i+1:2} {hits[i].docid:4} {hits[i].score:.5f}')\n",
        "    print(hits[i].raw)"
      ],
      "metadata": {
        "id": "MJhwSR_tEDjB",
        "colab": {
          "base_uri": "https://localhost:8080/"
        },
        "outputId": "ff4317ac-feda-417b-de6b-f5f25f5348a3"
      },
      "execution_count": 10,
      "outputs": [
        {
          "output_type": "stream",
          "name": "stdout",
          "text": [
            " 1 24747090 2.50920\n",
            "{\n",
            "  \"id\" : \"24747090\",\n",
            "  \"contents\" : \"We examine the role of body mass index in the assessment of prostate cancer risk .A total of 3,258 participants who underwent biopsy ( including 1,902 men with a diagnosis of prostate cancer ) were identified from the Selenium and Vitamin E Cancer Prevention Trial .The associations of body mass index with prostate cancer and high grade prostate cancer were examined using logistic regression , adjusting for age , race , body mass index adjusted prostate specific antigen , digital rectal examination , family history of prostate cancer , biopsy history , prostate specific antigen velocity , and time between study entry and the last biopsy .The prediction models were compared with our previously developed body mass index adjusted Prostate Cancer Prevention Trial prostate cancer risk calculator .Of the study subjects 49.1 % were overweight and 29.3 % were obese .After adjustment , among men without a known family history of prostate cancer , increased body mass index was not associated with a higher risk of prostate cancer ( per one-unit increase in logBMI OR 0.83 , p = 0.54 ) but was significantly associated with a higher risk of high grade prostate cancer ( ieGleason score 7 or greater prostate cancer ) ( OR 2.31 , p = 0.03 ) .For men with a known family history of prostate cancer the risks of prostate cancer and high grade prostate cancer increased rapidly as body mass index increased ( prostate cancer OR 3.73 , p = 0.02 ; high grade prostate cancer OR 7.95 , p = 0.002 ) .The previously developed risk calculator generally underestimated the risks of prostate cancer and high grade prostate cancer .Body mass index provided independently predictive information regarding the risks of prostate cancer and high grade prostate cancer after adjusting for other risk factors .Body mass index , especially in men with a known family history of prostate cancer , should be considered for inclusion in any clinical assessment of prostate cancer risk and recommendations regarding prostate biopsy .\"\n",
            "}\n",
            " 2 24645632 2.50460\n",
            "{\n",
            "  \"id\" : \"24645632\",\n",
            "  \"contents\" : \"Skin cancer survivors experience an increased risk for subsequent malignancies but the associated risk factors are poorly understood .This study examined the risk of a new primary cancer following an initial skin cancer and assessed risk factors associated with second primary cancers .All invasive cutaneous malignant melanomas ( CMM , N = 28 069 ) and squamous cell carcinomas ( SCC , N = 24 620 ) diagnosed in Norway during 1955-2008 were included .Rates of new primary cancers in skin cancer survivors were compared to rates of primary malignancies in the general population using standardized incidence ratios ( SIR ) .Discrete-time logistic regression models were applied to individual-level data to estimate cancer risk among those with and without a prior skin cancer , accounting for residential region , education , income , parenthood , marital status and parental cancer status , using a 20 % random sample of the entire Norwegian population as reference .Further analyses of the skin cancer cohort were undertaken to determine risk factors related to subsequent cancers .During follow-up , 9608 new primary cancers occurred after an initial skin cancer .SIR analyses showed 50 % and 90 % increased risks for any cancer after CMM and SCC , respectively ( p < 0.01 ) .The logistic regression model suggested even stronger increase after SCC ( 130 % ) .The highest risk was seen for subsequent skin cancers , but several non-skin cancers were also diagnosed in excess : oral , lung , colon , breast , prostate , thyroid , leukemia , lymphoma and central nervous system .Factors that were associated with increased risk of subsequent cancers include male sex , older age , lower residential latitude , being married and low education and income .Parental cancer did not increase the risk of a subsequent cancer after SCC , but was a significant predictor among younger CMM survivors .Our results provide information on shared environmental and genetic risk factors for first and later cancers and may help to identify individuals at high risk for subsequent cancers , which will be important as skin cancer incidence continues to rise .\"\n",
            "}\n",
            " 3 24569437 2.49760\n",
            "{\n",
            "  \"id\" : \"24569437\",\n",
            "  \"contents\" : \"NSABP P-1 provides an opportunity to examine the association of behavioral factors with prospectively monitored cancer incidence and interactions with tamoxifen .From 1992 to 1997 , 13,388 women with estimated 5-year breast cancer risk greater than 1.66 % or a history of lobular carcinoma in situ ( 87 % younger than age 65 ; 67 % postmenopausal ) were randomly assigned to tamoxifen versus placebo .Invasive breast cancer , lung cancer , colon cancer , and endometrial cancer were analyzed with Cox regression .Predictors were baseline cigarette smoking , leisure-time physical activity , alcohol consumption , and established risk factors .At median 7 years follow-up , we observed 395 , 66 , 35 , and 74 breast cancer , lung cancer , colon cancer , and endometrial cancer , respectively .Women who had smoked were at increased risk of breast cancer ( P = 0.007 ; HR = 1.3 for 15-35 years smoking , HR = 1.6 for 35 years ) , lung cancer ( P < 0.001 ; HR = 3.9 for 15-35 years , HR = 18.4 for 35 years ) , and colon cancer ( P < 0.001 ; HR = 5.1 for 35 years ) versus never-smokers .Low activity predicted increased breast cancer risk only among women assigned to placebo ( P = 0.021 activity main effect , P = 0.013 activity-treatment interaction ; HR = 1.4 for the placebo group ) and endometrial cancer among all women ( P = 0.026 , HR = 1.7 ) .Moderate alcohol ( > 0-1 drink/day ) was associated with decreased risk of colon cancer ( P = 0.019 ; HR = 0.35 ) versus no alcohol .There were no other significant associations between these behaviors and cancer risk .Among women with elevated risk of breast cancer , smoking has an even greater impact on breast cancer risk than observed in past studies in the general population .Women who smoke or are inactive should be informed of the increased risk of multiple types of cancer .\"\n",
            "}\n",
            " 4 20859673 2.49170\n",
            "{\n",
            "  \"id\" : \"20859673\",\n",
            "  \"contents\" : \"To assess the association between dietary acrylamide intake and the risk of cancer among male smokers .The study consisted of 27,111 male smokers , aged 50-69 years , without history of cancer .They were participants of the Alpha-Tocopherol , Beta-Carotene Cancer Prevention ( ATBC ) Study in Finland .The men completed a validated dietary questionnaire and a questionnaire on general background characteristics ( including smoking habits ) at baseline .Incident cases of cancer were identified through the national Finnish Cancer Registry .During an average 10.2 year follow-up , 1,703 lung cancers , 799 prostate cancers , 365 urothelial cancers , 316 colorectal cancers , 224 stomach cancers , 192 pancreatic cancers , 184 renal cell cancers , and 175 lymphomas were diagnosed .Dietary acrylamide intake was positively associated with the risk of lung cancer ; relative risk ( RR ) in the highest versus the lowest quintile in the multivariable-adjusted model was 1.18 ( ( 95 % confidence interval ( CI ) 1.01-1 .38 , p for trend 0.11 ) .Other cancers were not associated with acrylamide intake .High acrylamide intake is associated with increased risk of lung cancer but not with other cancers in male smokers .\"\n",
            "}\n",
            " 5 7752269 2.48950\n",
            "{\n",
            "  \"id\" : \"7752269\",\n",
            "  \"contents\" : \"Tamoxifen is being increasingly used for the treatment of breast cancer and is undergoing study for the primary prevention of breast cancer .However , concerns have been raised that the drug may increase the incidence of new primary malignancies , such as endometrial , liver , and colorectal cancers .Our goal was to assess the carcinogenic risks associated with long-term use of tamoxifen in women with early stage breast cancer .The incidence of new primary cancers among 2729 women participants of the Stockholm Trial was determined at a median follow-up of 9 years .In this trial , after primary surgery , postmenopausal patients aged less than 71 years with unilateral invasive breast cancer were randomly allocated to receive either 2 years of adjuvant tamoxifen ( 40 mg daily ) or no adjuvant endocrine therapy .Information on second cancers was obtained by retrospective linkage to the Swedish Cancer Registry .To increase statistical power , a joint analysis of the incidence of endometrial and gastrointestinal cancers was performed in the following three major studies in Scandinavia evaluating adjuvant tamoxifen therapy : the Stockholm Trial , the Danish Breast Cancer Group Trial , and the South-Swedish Trial .These studies included a total of 4914 patients with a median follow-up of 8-9 years .All P values were calculated from two-tailed tests of statistical significance .In the Stockholm Trial , there was a statistically significant ( P = .008 ) reduction in the incidence of second primary cancers in the contralateral breast among the tamoxifen-treated patients .However , there was a nearly sixfold increase in endometrial cancers ( P < .001 ) and a threefold increase in gastrointestinal cancers in the tamoxifen-treated patients .The results of the joint studies showed a statistically significant increase in endometrial cancers among the tamoxifen-treated patients ( relative risk [ RR ] = 4.1 ; 95 % confidence interval [ CI ] = 1.9-8 .9 ) .There was also an excess of gastrointestinal cancers associated with tamoxifen .Most of this excess involved colorectal cancers ( RR = 1.9 ; 95 % CI = 1.1-3 .3 ) and stomach cancer ( RR = 3.2 ; 95 % CI = 0.9-11 .7 ) .There was no substantial increase in any other type of gastrointestinal cancer ( e.g. , liver cancer ) among the tamoxifen-treated patients .The endometrium and gastrointestinal organs may be target sites for tamoxifen-induced carcinogenesis in humans .The increased incidence of colorectal and stomach cancers reported here should be regarded as tentative until supported by long-term data from a larger number of tamoxifen trials .Also , appropriate surveillance of cancer incidence is warranted for the protection of participants enrolled in current tamoxifen chemoprevention trials .\"\n",
            "}\n",
            " 6 25017249 2.48910\n",
            "{\n",
            "  \"id\" : \"25017249\",\n",
            "  \"contents\" : \"The World Cancer Research Fund ( WCRF ) and the American Institute for Cancer Research ( AICR ) published eight recommendations for cancer prevention , but they are not targeted at prostate cancer prevention .We investigated whether adherence to the WCRF/AICR recommendations and a prostate cancer dietary index is associated with prostate cancer risk .We conducted a nested case-control study of 1,806 prostate-specific antigen ( PSA ) - detected prostate cancer cases and 12,005 controls in the ProtecT trial .We developed a prostate cancer dietary index by incorporating three dietary factors most strongly associated with prostate cancer .Scores were computed to quantify adherence to the WCRF/AICR recommendations and the prostate cancer dietary index separately .The prostate cancer dietary index score was associated with decreased risk of prostate cancer [ OR per 1 score increment : 0.91 ; 95 % confidence interval ( CI ) : 0.84-0 .99 ; Ptrend = 0.04 ] but the WCRF/AICR index score was not ( OR : 0.99 ; 95 % CI : 0.94-1 .05 ; Ptrend = 0.71 ) .There was no heterogeneity in association by prostate cancer stage ( P = 0.81 ) or grade ( P = 0.61 ) .Greater adherence to recommendations to increase plant foods ( OR per 0.25 index score increment : 0.94 ; 95 % CI : 0.89-0 .99 ; Ptrend = 0.02 ) and tomato products ( OR adherence vs. nonadherence : 0.82 ; 95 % CI : 0.70-0 .97 ; P = 0.02 ) was inversely associated with overall prostate cancer risk .Adherence to the prostate cancer-specific dietary recommendations was associated with decreased risk of prostate cancer .High intake of plant foods and tomato products in particular may help protect against prostate cancer .Meeting the WCRF/AICR recommendations alone is insufficient for prostate cancer prevention .Additional dietary recommendations should be developed .\"\n",
            "}\n",
            " 7 23448100 2.48700\n",
            "{\n",
            "  \"id\" : \"23448100\",\n",
            "  \"contents\" : \"The Michigan Prevention Research Center , the University of Michigan Schools of Nursing , Public Health , and Medicine , and the Michigan Department of Community Health propose a multidisciplinary academic-clinical practice three-year project to increase breast cancer screening among young breast cancer survivors and their cancer-free female relatives at greatest risk for breast cancer .The study has three specific aims : 1 ) Identify and survey 3,000 young breast cancer survivors ( diagnosed at 20-45 years old ) regarding their breast cancer screening utilization .2 ) Identify and survey survivors ' high-risk relatives regarding their breast cancer screening utilization .3 ) Test two versions ( Targeted vs. Enhanced Tailored ) of an intervention to increase breast cancer screening among survivors and relatives .Following approval by human subjects review boards , 3,000 young breast cancer survivors will be identified through the Michigan Cancer Registry and mailed an invitation letter and a baseline survey .The baseline survey will obtain information on the survivors ' : a ) current breast cancer screening status and use of genetic counseling ; b ) perceived barriers and facilitators to screening ; c ) family health history .Based on the family history information provided by survivors , we will identify up to two high-risk relatives per survivor .Young breast cancer survivors will be mailed consent forms and baseline surveys to distribute to their selected high-risk relatives .Relatives ' baseline survey will obtain information on their : a ) current breast cancer screening status and use of genetic counseling ; and b ) perceived barriers and facilitators to screening .Young breast cancer survivors and high-risk relatives will be randomized as a family unit to receive two versions of an intervention aiming to increase breast cancer screening and use of cancer genetic services .A follow-up survey will be mailed 9 months after the intervention to survivors and high-risk relatives to evaluate the efficacy of each intervention version on : a ) use of breast cancer screening and genetic counseling ; b ) perceived barriers and facilitators to screening ; c ) self-efficacy in utilizing cancer genetic and screening services ; d ) family support related to screening ; e ) knowledge of breast cancer genetics ; and f ) satisfaction with the intervention .The study will enhance efforts of the state of Michigan surrounding cancer prevention , control , and public health genomics .\"\n",
            "}\n",
            " 8 10214599 2.48430\n",
            "{\n",
            "  \"id\" : \"10214599\",\n",
            "  \"contents\" : \"To evaluate the effectiveness of a video intervention in decreasing cancer fatalism , increasing knowledge of colorectal cancer , and increasing participation in fecal-occult blood testing ( FOBT ) .Repeated measures , pretest/post-test .Senior citizen centers in a rural southern state .Individuals were selected and assigned to the study group based on the center they attended .Centers were selected and assigned randomly to an intervention ( n = 42 ) or control ( n = 28 ) group .The age of the participants ranged from 52-92 years ( X = 75 ) .Pretest measures included the Powe Fatalism inventory , the Colorectal Cancer Knowledge Questionnaire , and the Demographic Data Questionnaire .The intervention group viewed the Medical University of South Carolina 's video Telling the Story ... To Live is God 's Will , and the control group viewed the American Cancer Society ( ACS ) video Colorectal Cancer : The Cancer No One Talks About .Hemoccult II kits were distributed to both groups at no cost .Post-test data were collected using the Powe Fatalism Inventory and the Colorectal Cancer Knowledge Questionnaire .Cancer fatalism , knowledge of colorectal cancer , and participation in FOBT .People who viewed the intervention video had a greater decrease in cancer fatalism scores and a greater increase in knowledge of colorectal cancer scores than the control group .Both groups had greater than 60 % participation in FOBT .Telling the Story ... To Live is God 's Will is an effective , self-contained , cost-effective intervention to decrease cancer fatalism and increase knowledge of colorectal cancer .The video was as effective as the ACS video on colorectal cancer in increasing participation in FOBT among rural elders .But , because Telling the Story ... To Live is God 's Will also decreases cancer fatalism and increases knowledge , the potential exists for the increased screening behaviors to be maintained over time .Showing the video in waiting areas of community health centers to facilitate the discussion of colorectal cancer and cancer screening with the healthcare professional is a possibility .Nursing students may benefit from using the video as a model for the integration of beliefs and attitudes in developing culturally appropriate , community-based interventions .More research is needed to determine if the positive outcomes of the intervention ( i.e. , decreased cancer fatalism , increased knowledge , increased participation in colorectal cancer screening ) can be maintained over time .\"\n",
            "}\n",
            " 9 23694983 2.48430\n",
            "{\n",
            "  \"id\" : \"23694983\",\n",
            "  \"contents\" : \"Eastern Africa has the highest incidence and mortality rates from cervical cancer worldwide .It is important to describe the differences among women and their perceived risk of cervical cancer to determine target groups to increase cervical cancer screening .In this cross-sectional study , we surveyed women seeking reproductive health services in Kisumu , Kenya to assess their perceived risk of cervical cancer and risk factors influencing cervical cancer screening uptake .statistics and t tests were used to determine significant factors , which were incorporated into a logistic model to determine factors independently associated with cervical cancer risk perception .Whereas 91 % of the surveyed women had heard of cancer , only 29 % of the 388 surveyed women had previously heard of cervical cancer .Most had received their information from health care workers .Few women ( 6 % ) had ever been screened for cervical cancer and cited barriers such as fear , time , and lack of knowledge about cervical cancer .Nearly all previously screened women ( 22/24 [ 92 % ] ) believed that cervical cancer was curable if detected early and that screening should be conducted annually ( 86 % ) .Most women ( 254/388 [ 65 % ] ) felt they were at risk for cervical cancer .Women with perceived risk of cervical cancer were older ( odds ratio [ OR ] , 1.06 ; 95 % confidence interval [ CI ] , 1.02-1 .10 ) , reported a history of marriage ( OR , 2.08 ; CI , 1.00-4 .30 ) , were less likely to feel adequately informed about cervical cancer by health care providers ( OR , 0.76 ; CI , 0.18-0 .83 ) , and more likely to intend to have cervical cancer screening in the future ( OR , 10.59 ; CI , 3.96-28 .30 ) .Only 5 % of the women reported that they would not be willing to undergo screening regardless of cost .Cervical cancer is a major health burden for women in sub-Saharan Africa , yet only one third of the women had ever heard of cervical cancer in Kisumu , Kenya .Understanding factors associated with women 's perceived risk of cervical cancer could guide future educational and clinical interventions to increase cervical cancer screening .\"\n",
            "}\n",
            "10 25008853 2.47790\n",
            "{\n",
            "  \"id\" : \"25008853\",\n",
            "  \"contents\" : \"Recent posttrial analysis of a completed randomized trial found an increased risk of prostate cancer among healthy men taking high-dose vitamin E supplements .Trials that examined the effect of vitamin C supplements on cancer risk are few .We examined whether vitamin E or vitamin C supplementation affects the risk of cancer events during posttrial follow-up of the Physicians ' Health Study II .Beginning in 1997 , a total of 14,641 US male physicians aged 50 y were randomly assigned to receive 400 IU of vitamin E every other day , 500 mg of vitamin C daily , or their respective placebos .The vitamin E and vitamin C treatment ended in 2007 , and observational follow-up continued through June 2011 .This study included an additional 356 cases of incident prostate cancer and 771 total cancers that developed during a mean ( maximum ) of 2.8 ( 3.8 ) y of posttrial observation .During an overall mean of 10.3 ( 13.8 ) y , there were a total of 1373 incident prostate cancers and 2669 total cancers documented .In comparison with placebo , vitamin E supplementation had no effect on the incidence of prostate cancer ( HR : 0.99 ; 95 % CI : 0.89 , 1.10 ) or total cancers ( HR : 1.02 ; 95 % CI : 0.95 , 1.10 ) .There was also no effect of vitamin C supplementation on total cancers ( HR : 1.02 ; 95 % CI : 0.94 , 1.10 ) or incident prostate cancer ( HR : 1.03 ; 95 % CI : 0.93 , 1.15 ) .Neither vitamin E nor vitamin C supplementation had effects on other site-specific cancers overall .Stratification by known cancer risk factors , history of cancer , other randomized treatment , and follow-up time showed no significant interactions .In this large-scale randomized trial in men , vitamin E and C supplementation had no immediate or long-term effects on the risk of total cancers , prostate cancer , or other site-specific cancers .\"\n",
            "}\n"
          ]
        }
      ]
    },
    {
      "cell_type": "markdown",
      "source": [
        "### Retrieve from Inverted Index"
      ],
      "metadata": {
        "id": "siYbaI892UV0"
      }
    },
    {
      "cell_type": "code",
      "source": [
        "searcher = LuceneSearcher('/content/dataset/output')\n",
        "\n",
        "# 計算Retrieve from Inverted Index的時間\n",
        "start1 = time.perf_counter()      # perf_counter()具有最高可用分辨率的時鐘，以測量短持續時間\n",
        "hits = searcher.search('cancer')  # 預設回傳最多10筆\n",
        "end1 = time.perf_counter()"
      ],
      "metadata": {
        "id": "3VWePnAw2XbA"
      },
      "execution_count": 18,
      "outputs": []
    },
    {
      "cell_type": "markdown",
      "source": [
        "### 印出Retrieve from Inverted Index的計算時間(0.0226 seconds)"
      ],
      "metadata": {
        "id": "o8DbM0EHJm5R"
      }
    },
    {
      "cell_type": "code",
      "source": [
        "print(\"Total Retrieval: \", len(hits))\n",
        "print(f\"Inverted Index Retrieval: {end1 - start1:0.4f} seconds\")"
      ],
      "metadata": {
        "colab": {
          "base_uri": "https://localhost:8080/"
        },
        "id": "dak8dskU2a1E",
        "outputId": "e9ca263a-32f5-4acb-bcaa-a2e1f12c32a5"
      },
      "execution_count": 12,
      "outputs": [
        {
          "output_type": "stream",
          "name": "stdout",
          "text": [
            "Total Retrieval:  10\n",
            "Inverted Index Retrieval: 0.0226 seconds\n"
          ]
        }
      ]
    },
    {
      "cell_type": "markdown",
      "source": [
        "### Retrive by Linear Scan"
      ],
      "metadata": {
        "id": "C7dRuAo48yVP"
      }
    },
    {
      "cell_type": "code",
      "source": [
        "pubmed_df = pd.read_json('/content/dataset/input/json_data.json')\n",
        "pubmed_df.head()"
      ],
      "metadata": {
        "colab": {
          "base_uri": "https://localhost:8080/",
          "height": 206
        },
        "id": "N1LnbwBm9YmS",
        "outputId": "1082190b-23f9-4ba5-dd11-fa2f22a1b5ca"
      },
      "execution_count": 15,
      "outputs": [
        {
          "output_type": "execute_result",
          "data": {
            "text/plain": [
              "         id                                           contents\n",
              "0  24491034  The emergence of HIV as a chronic condition me...\n",
              "1  20497432  The aim of this study was to evaluate the effi...\n",
              "2  19062107  The aim of this prospective randomized study w...\n",
              "3  19769482  To explore the effects of GengNianLe ( GNL , a...\n",
              "4  26077436  Topical formulations of nonsteroidal anti-infl..."
            ],
            "text/html": [
              "\n",
              "  <div id=\"df-d5e20f51-062e-4655-a62c-fd14849d008b\">\n",
              "    <div class=\"colab-df-container\">\n",
              "      <div>\n",
              "<style scoped>\n",
              "    .dataframe tbody tr th:only-of-type {\n",
              "        vertical-align: middle;\n",
              "    }\n",
              "\n",
              "    .dataframe tbody tr th {\n",
              "        vertical-align: top;\n",
              "    }\n",
              "\n",
              "    .dataframe thead th {\n",
              "        text-align: right;\n",
              "    }\n",
              "</style>\n",
              "<table border=\"1\" class=\"dataframe\">\n",
              "  <thead>\n",
              "    <tr style=\"text-align: right;\">\n",
              "      <th></th>\n",
              "      <th>id</th>\n",
              "      <th>contents</th>\n",
              "    </tr>\n",
              "  </thead>\n",
              "  <tbody>\n",
              "    <tr>\n",
              "      <th>0</th>\n",
              "      <td>24491034</td>\n",
              "      <td>The emergence of HIV as a chronic condition me...</td>\n",
              "    </tr>\n",
              "    <tr>\n",
              "      <th>1</th>\n",
              "      <td>20497432</td>\n",
              "      <td>The aim of this study was to evaluate the effi...</td>\n",
              "    </tr>\n",
              "    <tr>\n",
              "      <th>2</th>\n",
              "      <td>19062107</td>\n",
              "      <td>The aim of this prospective randomized study w...</td>\n",
              "    </tr>\n",
              "    <tr>\n",
              "      <th>3</th>\n",
              "      <td>19769482</td>\n",
              "      <td>To explore the effects of GengNianLe ( GNL , a...</td>\n",
              "    </tr>\n",
              "    <tr>\n",
              "      <th>4</th>\n",
              "      <td>26077436</td>\n",
              "      <td>Topical formulations of nonsteroidal anti-infl...</td>\n",
              "    </tr>\n",
              "  </tbody>\n",
              "</table>\n",
              "</div>\n",
              "      <button class=\"colab-df-convert\" onclick=\"convertToInteractive('df-d5e20f51-062e-4655-a62c-fd14849d008b')\"\n",
              "              title=\"Convert this dataframe to an interactive table.\"\n",
              "              style=\"display:none;\">\n",
              "        \n",
              "  <svg xmlns=\"http://www.w3.org/2000/svg\" height=\"24px\"viewBox=\"0 0 24 24\"\n",
              "       width=\"24px\">\n",
              "    <path d=\"M0 0h24v24H0V0z\" fill=\"none\"/>\n",
              "    <path d=\"M18.56 5.44l.94 2.06.94-2.06 2.06-.94-2.06-.94-.94-2.06-.94 2.06-2.06.94zm-11 1L8.5 8.5l.94-2.06 2.06-.94-2.06-.94L8.5 2.5l-.94 2.06-2.06.94zm10 10l.94 2.06.94-2.06 2.06-.94-2.06-.94-.94-2.06-.94 2.06-2.06.94z\"/><path d=\"M17.41 7.96l-1.37-1.37c-.4-.4-.92-.59-1.43-.59-.52 0-1.04.2-1.43.59L10.3 9.45l-7.72 7.72c-.78.78-.78 2.05 0 2.83L4 21.41c.39.39.9.59 1.41.59.51 0 1.02-.2 1.41-.59l7.78-7.78 2.81-2.81c.8-.78.8-2.07 0-2.86zM5.41 20L4 18.59l7.72-7.72 1.47 1.35L5.41 20z\"/>\n",
              "  </svg>\n",
              "      </button>\n",
              "      \n",
              "  <style>\n",
              "    .colab-df-container {\n",
              "      display:flex;\n",
              "      flex-wrap:wrap;\n",
              "      gap: 12px;\n",
              "    }\n",
              "\n",
              "    .colab-df-convert {\n",
              "      background-color: #E8F0FE;\n",
              "      border: none;\n",
              "      border-radius: 50%;\n",
              "      cursor: pointer;\n",
              "      display: none;\n",
              "      fill: #1967D2;\n",
              "      height: 32px;\n",
              "      padding: 0 0 0 0;\n",
              "      width: 32px;\n",
              "    }\n",
              "\n",
              "    .colab-df-convert:hover {\n",
              "      background-color: #E2EBFA;\n",
              "      box-shadow: 0px 1px 2px rgba(60, 64, 67, 0.3), 0px 1px 3px 1px rgba(60, 64, 67, 0.15);\n",
              "      fill: #174EA6;\n",
              "    }\n",
              "\n",
              "    [theme=dark] .colab-df-convert {\n",
              "      background-color: #3B4455;\n",
              "      fill: #D2E3FC;\n",
              "    }\n",
              "\n",
              "    [theme=dark] .colab-df-convert:hover {\n",
              "      background-color: #434B5C;\n",
              "      box-shadow: 0px 1px 3px 1px rgba(0, 0, 0, 0.15);\n",
              "      filter: drop-shadow(0px 1px 2px rgba(0, 0, 0, 0.3));\n",
              "      fill: #FFFFFF;\n",
              "    }\n",
              "  </style>\n",
              "\n",
              "      <script>\n",
              "        const buttonEl =\n",
              "          document.querySelector('#df-d5e20f51-062e-4655-a62c-fd14849d008b button.colab-df-convert');\n",
              "        buttonEl.style.display =\n",
              "          google.colab.kernel.accessAllowed ? 'block' : 'none';\n",
              "\n",
              "        async function convertToInteractive(key) {\n",
              "          const element = document.querySelector('#df-d5e20f51-062e-4655-a62c-fd14849d008b');\n",
              "          const dataTable =\n",
              "            await google.colab.kernel.invokeFunction('convertToInteractive',\n",
              "                                                     [key], {});\n",
              "          if (!dataTable) return;\n",
              "\n",
              "          const docLinkHtml = 'Like what you see? Visit the ' +\n",
              "            '<a target=\"_blank\" href=https://colab.research.google.com/notebooks/data_table.ipynb>data table notebook</a>'\n",
              "            + ' to learn more about interactive tables.';\n",
              "          element.innerHTML = '';\n",
              "          dataTable['output_type'] = 'display_data';\n",
              "          await google.colab.output.renderOutput(dataTable, element);\n",
              "          const docLink = document.createElement('div');\n",
              "          docLink.innerHTML = docLinkHtml;\n",
              "          element.appendChild(docLink);\n",
              "        }\n",
              "      </script>\n",
              "    </div>\n",
              "  </div>\n",
              "  "
            ]
          },
          "metadata": {},
          "execution_count": 15
        }
      ]
    },
    {
      "cell_type": "code",
      "source": [
        "start2 = time.perf_counter()\n",
        "# 取出pubmed_df中的contents裡面有包含欲搜尋的字的資料\n",
        "result = pubmed_df.loc[ pubmed_df['contents'].str.contains(\"cancer\") ] # df.loc[]: 用index的標籤來取出資料\n",
        "end2 = time.perf_counter()"
      ],
      "metadata": {
        "id": "lkLqxQMF89DO"
      },
      "execution_count": 19,
      "outputs": []
    },
    {
      "cell_type": "markdown",
      "source": [
        "### 印出Linear Scan的計算時間 (0.2936 seconds)"
      ],
      "metadata": {
        "id": "2hlF91FXKU2l"
      }
    },
    {
      "cell_type": "code",
      "source": [
        "print(f\"Linear Scan Retrieval: {end2 - start2:0.4f} seconds\")"
      ],
      "metadata": {
        "colab": {
          "base_uri": "https://localhost:8080/"
        },
        "id": "eVxngzx-9s4_",
        "outputId": "e0187209-15c2-422e-9786-85654647c64a"
      },
      "execution_count": 21,
      "outputs": [
        {
          "output_type": "stream",
          "name": "stdout",
          "text": [
            "Linear Scan Retrieval: 0.2936 seconds\n"
          ]
        }
      ]
    }
  ]
}